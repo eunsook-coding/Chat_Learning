# Chat_Learning
스케쥴: https://docs.google.com/spreadsheets/d/1-m9TveaMZ54EVI-ikGYcp1orD1-GsIwXZbaZDi0oW4c/edit#gid=1282839535
